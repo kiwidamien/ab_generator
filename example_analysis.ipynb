{
 "cells": [
  {
   "cell_type": "code",
   "execution_count": 33,
   "metadata": {
    "ExecuteTime": {
     "end_time": "2018-11-25T20:11:45.355085Z",
     "start_time": "2018-11-25T20:11:45.249437Z"
    }
   },
   "outputs": [],
   "source": [
    "import pandas as pd\n",
    "import numpy as np\n",
    "\n",
    "visits = pd.read_csv('visits.csv', names=['username', 'experiment', 'date', 'device', 'variation', 'success'])"
   ]
  },
  {
   "cell_type": "code",
   "execution_count": 34,
   "metadata": {
    "ExecuteTime": {
     "end_time": "2018-11-25T20:11:45.601155Z",
     "start_time": "2018-11-25T20:11:45.586255Z"
    }
   },
   "outputs": [
    {
     "data": {
      "text/html": [
       "<div>\n",
       "<style scoped>\n",
       "    .dataframe tbody tr th:only-of-type {\n",
       "        vertical-align: middle;\n",
       "    }\n",
       "\n",
       "    .dataframe tbody tr th {\n",
       "        vertical-align: top;\n",
       "    }\n",
       "\n",
       "    .dataframe thead th {\n",
       "        text-align: right;\n",
       "    }\n",
       "</style>\n",
       "<table border=\"1\" class=\"dataframe\">\n",
       "  <thead>\n",
       "    <tr style=\"text-align: right;\">\n",
       "      <th></th>\n",
       "      <th>username</th>\n",
       "      <th>experiment</th>\n",
       "      <th>date</th>\n",
       "      <th>device</th>\n",
       "      <th>variation</th>\n",
       "      <th>success</th>\n",
       "    </tr>\n",
       "  </thead>\n",
       "  <tbody>\n",
       "    <tr>\n",
       "      <th>0</th>\n",
       "      <td>michael91</td>\n",
       "      <td>button_clr</td>\n",
       "      <td>2018-09-24 02:21:15</td>\n",
       "      <td>desktop</td>\n",
       "      <td>control</td>\n",
       "      <td>False</td>\n",
       "    </tr>\n",
       "    <tr>\n",
       "      <th>1</th>\n",
       "      <td>michael91</td>\n",
       "      <td>button_clr</td>\n",
       "      <td>2018-09-24 07:26:34</td>\n",
       "      <td>mobile</td>\n",
       "      <td>control</td>\n",
       "      <td>False</td>\n",
       "    </tr>\n",
       "    <tr>\n",
       "      <th>2</th>\n",
       "      <td>michael91</td>\n",
       "      <td>button_clr</td>\n",
       "      <td>2018-09-24 22:06:30</td>\n",
       "      <td>desktop</td>\n",
       "      <td>control</td>\n",
       "      <td>True</td>\n",
       "    </tr>\n",
       "    <tr>\n",
       "      <th>3</th>\n",
       "      <td>michael91</td>\n",
       "      <td>button_clr</td>\n",
       "      <td>2018-09-25 23:18:21</td>\n",
       "      <td>mobile</td>\n",
       "      <td>control</td>\n",
       "      <td>False</td>\n",
       "    </tr>\n",
       "    <tr>\n",
       "      <th>4</th>\n",
       "      <td>michael91</td>\n",
       "      <td>button_clr</td>\n",
       "      <td>2018-09-26 03:45:05</td>\n",
       "      <td>mobile</td>\n",
       "      <td>control</td>\n",
       "      <td>False</td>\n",
       "    </tr>\n",
       "  </tbody>\n",
       "</table>\n",
       "</div>"
      ],
      "text/plain": [
       "    username  experiment                 date   device variation  success\n",
       "0  michael91  button_clr  2018-09-24 02:21:15  desktop   control    False\n",
       "1  michael91  button_clr  2018-09-24 07:26:34   mobile   control    False\n",
       "2  michael91  button_clr  2018-09-24 22:06:30  desktop   control     True\n",
       "3  michael91  button_clr  2018-09-25 23:18:21   mobile   control    False\n",
       "4  michael91  button_clr  2018-09-26 03:45:05   mobile   control    False"
      ]
     },
     "execution_count": 34,
     "metadata": {},
     "output_type": "execute_result"
    }
   ],
   "source": [
    "visits.head()"
   ]
  },
  {
   "cell_type": "code",
   "execution_count": 63,
   "metadata": {
    "ExecuteTime": {
     "end_time": "2018-11-25T20:17:51.934918Z",
     "start_time": "2018-11-25T20:17:51.882389Z"
    }
   },
   "outputs": [
    {
     "name": "stdout",
     "output_type": "stream",
     "text": [
      "<class 'pandas.core.frame.DataFrame'>\n",
      "RangeIndex: 62789 entries, 0 to 62788\n",
      "Data columns (total 6 columns):\n",
      "username      62789 non-null object\n",
      "experiment    62789 non-null object\n",
      "date          62789 non-null object\n",
      "device        62789 non-null object\n",
      "variation     62789 non-null object\n",
      "success       62789 non-null bool\n",
      "dtypes: bool(1), object(5)\n",
      "memory usage: 2.5+ MB\n"
     ]
    }
   ],
   "source": [
    "visits.info()"
   ]
  },
  {
   "cell_type": "code",
   "execution_count": 53,
   "metadata": {
    "ExecuteTime": {
     "end_time": "2018-11-25T20:15:50.664505Z",
     "start_time": "2018-11-25T20:15:50.652714Z"
    }
   },
   "outputs": [],
   "source": [
    "summary_stats = visits.groupby('variation').agg({'success': ['count', 'mean', 'sum']}).xs(key='success', axis=1)"
   ]
  },
  {
   "cell_type": "code",
   "execution_count": 56,
   "metadata": {
    "ExecuteTime": {
     "end_time": "2018-11-25T20:16:31.660532Z",
     "start_time": "2018-11-25T20:16:31.651224Z"
    }
   },
   "outputs": [
    {
     "data": {
      "text/html": [
       "<div>\n",
       "<style scoped>\n",
       "    .dataframe tbody tr th:only-of-type {\n",
       "        vertical-align: middle;\n",
       "    }\n",
       "\n",
       "    .dataframe tbody tr th {\n",
       "        vertical-align: top;\n",
       "    }\n",
       "\n",
       "    .dataframe thead th {\n",
       "        text-align: right;\n",
       "    }\n",
       "</style>\n",
       "<table border=\"1\" class=\"dataframe\">\n",
       "  <thead>\n",
       "    <tr style=\"text-align: right;\">\n",
       "      <th></th>\n",
       "      <th>count</th>\n",
       "      <th>mean</th>\n",
       "      <th>num_success</th>\n",
       "    </tr>\n",
       "    <tr>\n",
       "      <th>variation</th>\n",
       "      <th></th>\n",
       "      <th></th>\n",
       "      <th></th>\n",
       "    </tr>\n",
       "  </thead>\n",
       "  <tbody>\n",
       "    <tr>\n",
       "      <th>control</th>\n",
       "      <td>36728</td>\n",
       "      <td>0.090367</td>\n",
       "      <td>3319.0</td>\n",
       "    </tr>\n",
       "    <tr>\n",
       "      <th>variation</th>\n",
       "      <td>26061</td>\n",
       "      <td>0.114808</td>\n",
       "      <td>2992.0</td>\n",
       "    </tr>\n",
       "  </tbody>\n",
       "</table>\n",
       "</div>"
      ],
      "text/plain": [
       "           count      mean  num_success\n",
       "variation                              \n",
       "control    36728  0.090367       3319.0\n",
       "variation  26061  0.114808       2992.0"
      ]
     },
     "execution_count": 56,
     "metadata": {},
     "output_type": "execute_result"
    }
   ],
   "source": [
    "summary_stats.rename(columns={'sum': 'num_success'}, inplace=True)\n",
    "summary_stats.head()"
   ]
  },
  {
   "cell_type": "code",
   "execution_count": 58,
   "metadata": {
    "ExecuteTime": {
     "end_time": "2018-11-25T20:16:54.137832Z",
     "start_time": "2018-11-25T20:16:54.130911Z"
    }
   },
   "outputs": [
    {
     "data": {
      "text/plain": [
       "0.10051123604453009"
      ]
     },
     "execution_count": 58,
     "metadata": {},
     "output_type": "execute_result"
    }
   ],
   "source": [
    "pooled_rate = summary_stats['num_success'].sum() / summary_stats['count'].sum()\n",
    "pooled_rate"
   ]
  },
  {
   "cell_type": "code",
   "execution_count": null,
   "metadata": {
    "ExecuteTime": {
     "end_time": "2018-11-25T20:11:15.877601Z",
     "start_time": "2018-11-25T20:11:15.864944Z"
    }
   },
   "outputs": [],
   "source": []
  },
  {
   "cell_type": "code",
   "execution_count": 59,
   "metadata": {
    "ExecuteTime": {
     "end_time": "2018-11-25T20:16:55.213740Z",
     "start_time": "2018-11-25T20:16:55.210245Z"
    }
   },
   "outputs": [],
   "source": [
    "std_var = pooled_rate*(1-pooled_rate)*(1/summary_stats['count'].values).sum()"
   ]
  },
  {
   "cell_type": "code",
   "execution_count": 60,
   "metadata": {
    "ExecuteTime": {
     "end_time": "2018-11-25T20:16:55.665531Z",
     "start_time": "2018-11-25T20:16:55.662454Z"
    }
   },
   "outputs": [],
   "source": [
    "std_err = np.sqrt(std_var)"
   ]
  },
  {
   "cell_type": "code",
   "execution_count": 61,
   "metadata": {
    "ExecuteTime": {
     "end_time": "2018-11-25T20:16:55.840139Z",
     "start_time": "2018-11-25T20:16:55.831765Z"
    }
   },
   "outputs": [
    {
     "data": {
      "text/plain": [
       "-0.024440544427162078"
      ]
     },
     "execution_count": 61,
     "metadata": {},
     "output_type": "execute_result"
    }
   ],
   "source": [
    "difference = summary_stats.loc['control', 'mean'] - summary_stats.loc['variation', 'mean']\n",
    "difference"
   ]
  },
  {
   "cell_type": "code",
   "execution_count": 62,
   "metadata": {
    "ExecuteTime": {
     "end_time": "2018-11-25T20:16:56.308369Z",
     "start_time": "2018-11-25T20:16:56.301690Z"
    }
   },
   "outputs": [
    {
     "data": {
      "text/plain": [
       "-10.03594083622265"
      ]
     },
     "execution_count": 62,
     "metadata": {},
     "output_type": "execute_result"
    }
   ],
   "source": [
    "z = difference/std_err\n",
    "z"
   ]
  },
  {
   "cell_type": "code",
   "execution_count": null,
   "metadata": {},
   "outputs": [],
   "source": []
  }
 ],
 "metadata": {
  "kernelspec": {
   "display_name": "Python 3",
   "language": "python",
   "name": "python3"
  },
  "language_info": {
   "codemirror_mode": {
    "name": "ipython",
    "version": 3
   },
   "file_extension": ".py",
   "mimetype": "text/x-python",
   "name": "python",
   "nbconvert_exporter": "python",
   "pygments_lexer": "ipython3",
   "version": "3.6.4"
  },
  "varInspector": {
   "cols": {
    "lenName": 16,
    "lenType": 16,
    "lenVar": 40
   },
   "kernels_config": {
    "python": {
     "delete_cmd_postfix": "",
     "delete_cmd_prefix": "del ",
     "library": "var_list.py",
     "varRefreshCmd": "print(var_dic_list())"
    },
    "r": {
     "delete_cmd_postfix": ") ",
     "delete_cmd_prefix": "rm(",
     "library": "var_list.r",
     "varRefreshCmd": "cat(var_dic_list()) "
    }
   },
   "types_to_exclude": [
    "module",
    "function",
    "builtin_function_or_method",
    "instance",
    "_Feature"
   ],
   "window_display": false
  }
 },
 "nbformat": 4,
 "nbformat_minor": 2
}
